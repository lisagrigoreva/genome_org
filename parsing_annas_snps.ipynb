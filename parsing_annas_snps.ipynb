{
 "cells": [
  {
   "cell_type": "markdown",
   "id": "328b324f-91f8-45e6-a73b-2a70b457c5f6",
   "metadata": {},
   "source": [
    "if (!require(\"BiocManager\", quietly = TRUE))\n",
    "    install.packages(\"\")"
   ]
  },
  {
   "cell_type": "code",
   "execution_count": 36,
   "id": "e7a43a47-505b-4b6b-abd6-c7eb952816e5",
   "metadata": {},
   "outputs": [
    {
     "name": "stderr",
     "output_type": "stream",
     "text": [
      "'getOption(\"repos\")' replaces Bioconductor standard repositories, see\n",
      "'?repositories' for details\n",
      "\n",
      "replacement repositories:\n",
      "    CRAN: https://cran.r-project.org\n",
      "\n",
      "\n",
      "Bioconductor version 3.16 (BiocManager 1.30.19), R 4.2.2 (2022-10-31)\n",
      "\n",
      "Installing package(s) 'Biostrings'\n",
      "\n",
      "also installing the dependencies ‘bitops’, ‘zlibbioc’, ‘RCurl’, ‘GenomeInfoDbData’, ‘BiocGenerics’, ‘S4Vectors’, ‘IRanges’, ‘XVector’, ‘GenomeInfoDb’\n",
      "\n",
      "\n",
      "Updating HTML index of packages in '.Library'\n",
      "\n",
      "Making 'packages.html' ...\n",
      " done\n",
      "\n"
     ]
    }
   ],
   "source": [
    "BiocManager::install(\"Biostrings\")"
   ]
  },
  {
   "cell_type": "code",
   "execution_count": 39,
   "id": "6c3efe33-974d-4153-885c-64de4aaa03a0",
   "metadata": {},
   "outputs": [
    {
     "name": "stderr",
     "output_type": "stream",
     "text": [
      "also installing the dependencies ‘generics’, ‘tidyselect’\n",
      "\n",
      "\n",
      "Updating HTML index of packages in '.Library'\n",
      "\n",
      "Making 'packages.html' ...\n",
      " done\n",
      "\n"
     ]
    }
   ],
   "source": [
    "install.packages(\"dplyr\")"
   ]
  },
  {
   "cell_type": "code",
   "execution_count": 40,
   "id": "50c2a845-fbbd-4d80-b44b-f289efbbaa7c",
   "metadata": {},
   "outputs": [
    {
     "name": "stderr",
     "output_type": "stream",
     "text": [
      "\n",
      "Attaching package: ‘dplyr’\n",
      "\n",
      "\n",
      "The following objects are masked from ‘package:Biostrings’:\n",
      "\n",
      "    collapse, intersect, setdiff, setequal, union\n",
      "\n",
      "\n",
      "The following object is masked from ‘package:GenomeInfoDb’:\n",
      "\n",
      "    intersect\n",
      "\n",
      "\n",
      "The following object is masked from ‘package:XVector’:\n",
      "\n",
      "    slice\n",
      "\n",
      "\n",
      "The following objects are masked from ‘package:IRanges’:\n",
      "\n",
      "    collapse, desc, intersect, setdiff, slice, union\n",
      "\n",
      "\n",
      "The following objects are masked from ‘package:S4Vectors’:\n",
      "\n",
      "    first, intersect, rename, setdiff, setequal, union\n",
      "\n",
      "\n",
      "The following objects are masked from ‘package:BiocGenerics’:\n",
      "\n",
      "    combine, intersect, setdiff, union\n",
      "\n",
      "\n",
      "The following object is masked from ‘package:ggplot2’:\n",
      "\n",
      "    vars\n",
      "\n",
      "\n",
      "The following objects are masked from ‘package:data.table’:\n",
      "\n",
      "    between, first, last\n",
      "\n",
      "\n",
      "The following objects are masked from ‘package:stats’:\n",
      "\n",
      "    filter, lag\n",
      "\n",
      "\n",
      "The following objects are masked from ‘package:base’:\n",
      "\n",
      "    intersect, setdiff, setequal, union\n",
      "\n",
      "\n"
     ]
    }
   ],
   "source": [
    "library(stringi)\n",
    "library(data.table)\n",
    "library(tools)\n",
    "library(data.table)\n",
    "library(stringdist)\n",
    "library(stringr)\n",
    "library(scales)\n",
    "library(ggplot2)\n",
    "library(Biostrings)\n",
    "library(stringr)\n",
    "library(dplyr)"
   ]
  },
  {
   "cell_type": "code",
   "execution_count": 15,
   "id": "cd8f9f8f-ed79-4737-8f05-a24d242a5b74",
   "metadata": {},
   "outputs": [],
   "source": [
    "#Set working directory \n",
    "setwd(\"/groups/nordborg/user/elizaveta.grigoreva/genome_evolution_pacbio\")"
   ]
  },
  {
   "cell_type": "code",
   "execution_count": 16,
   "id": "1c6e7f68-a05e-4826-8c28-f958c9b6356b",
   "metadata": {},
   "outputs": [],
   "source": [
    "#Load data per chromosome (Anna's SNPs)\n",
    "chr1 <- readRDS('data/annas_snps/snps_mx1_final.rds')\n",
    "chr2 <- readRDS('data/annas_snps/snps_mx2_final.rds')\n",
    "chr3 <- readRDS('data/annas_snps/snps_mx3_final.rds')\n",
    "chr4 <- readRDS('data/annas_snps/snps_mx4_final.rds')\n",
    "chr5 <- readRDS('data/annas_snps/snps_mx5_final.rds')\n",
    "#Load indexies per chromosome (Anna's SNPs)\n",
    "chr1_idx <- as.data.frame(readRDS('data/annas_snps/snps_mx1_idx.rds'))\n",
    "chr2_idx <- as.data.frame(readRDS('data/annas_snps/snps_mx2_idx.rds'))\n",
    "chr3_idx <- as.data.frame(readRDS('data/annas_snps/snps_mx3_idx.rds'))\n",
    "chr4_idx <- as.data.frame(readRDS('data/annas_snps/snps_mx4_idx.rds'))\n",
    "chr5_idx <- as.data.frame(readRDS('data/annas_snps/snps_mx5_idx.rds'))"
   ]
  },
  {
   "cell_type": "code",
   "execution_count": 42,
   "id": "546e7911-f919-4c70-92bf-72085db11279",
   "metadata": {},
   "outputs": [],
   "source": [
    "#Change chromosome notation per chromosome\n",
    "vcf <- as.data.frame(cbind(chr1_idx = chr1_idx$`0`, chr1)) #Combine SNPs per individual and ids for Col0\n",
    "colnames(vcf)[1] <- \"POS\"\n",
    "colnames(vcf)[2] <- \"REF\"\n",
    "#Add ALT allele frequencies (non-reference)\n",
    "uniq_values <- apply(vcf[,3:29],1,unique) #From 3(first sample) to the last ncol(vcf)\n",
    "###Transform  list to the matrix to get a list of alternative alleles \n",
    "ALT <- stri_list2matrix(uniq_values, byrow=TRUE) #Chr1\n",
    "#Make a dataframe of all alternative alleles\n",
    "colnames(ALT) <- c(\"ALT1\", \"ALT2\", \"ALT3\",\"ALT4\", \"ALT5\")  #Number of alleles based on the number of columns\n",
    "#Insert reference values to each column\n",
    "for(i in 3:ncol(vcf)) {       # for-loop over columns\n",
    "  vcf[ , i] <- paste(vcf$REF,vcf[ , i],sep=\"\")}\n",
    "#We have 1st allele always REF. If first allele present but alternative is lost, we will keep this site as NA\n",
    "vcf <- data.frame(lapply(vcf, function(x) {\n",
    "  gsub(\"cNA\", \"NA\",\n",
    "  gsub(\"aNA\", \"NA\",\n",
    "  gsub(\"gNA\", \"NA\",\n",
    "  gsub(\"tNA\", \"NA\" , x))))\n",
    "  }))\n",
    "#Add alternative allele \n",
    "ALT <- as.data.frame(ALT)\n",
    "vcf$ALT <- paste0(ALT$ALT1,\",\",ALT$ALT2,\",\",ALT$ALT3,\",\",ALT$ALT4,\",\", ALT$ALT5 )\n",
    "##Remove NA values that represent absence of ALT allele.We are not interested in casese when reference allele is present and alt are not \n",
    "#Remove NAs\n",
    "vcf$ALT <- gsub(\"NA,\",\"\",vcf$ALT)\n",
    "vcf$ALT <- gsub(\",NA,\",\"\", vcf$ALT)\n",
    "vcf$ALT <- gsub(\",NA\",\"\", vcf$ALT)"
   ]
  },
  {
   "cell_type": "code",
   "execution_count": 21,
   "id": "58ed444c-61f9-476d-8766-4c23d4d7b119",
   "metadata": {},
   "outputs": [
    {
     "data": {
      "text/html": [
       "<table class=\"dataframe\">\n",
       "<caption>A data.frame: 6 × 30</caption>\n",
       "<thead>\n",
       "\t<tr><th></th><th scope=col>POS</th><th scope=col>REF</th><th scope=col>X22002</th><th scope=col>X9537</th><th scope=col>X9905</th><th scope=col>X10002</th><th scope=col>X6966</th><th scope=col>X10024</th><th scope=col>X6069</th><th scope=col>X6124</th><th scope=col>⋯</th><th scope=col>X9543</th><th scope=col>X10015</th><th scope=col>X1741</th><th scope=col>X8236</th><th scope=col>X9728</th><th scope=col>X9888</th><th scope=col>X9764</th><th scope=col>X22007</th><th scope=col>X6909</th><th scope=col>ALT</th></tr>\n",
       "\t<tr><th></th><th scope=col>&lt;chr&gt;</th><th scope=col>&lt;chr&gt;</th><th scope=col>&lt;chr&gt;</th><th scope=col>&lt;chr&gt;</th><th scope=col>&lt;chr&gt;</th><th scope=col>&lt;chr&gt;</th><th scope=col>&lt;chr&gt;</th><th scope=col>&lt;chr&gt;</th><th scope=col>&lt;chr&gt;</th><th scope=col>&lt;chr&gt;</th><th scope=col>⋯</th><th scope=col>&lt;chr&gt;</th><th scope=col>&lt;chr&gt;</th><th scope=col>&lt;chr&gt;</th><th scope=col>&lt;chr&gt;</th><th scope=col>&lt;chr&gt;</th><th scope=col>&lt;chr&gt;</th><th scope=col>&lt;chr&gt;</th><th scope=col>&lt;chr&gt;</th><th scope=col>&lt;chr&gt;</th><th scope=col>&lt;chr&gt;</th></tr>\n",
       "</thead>\n",
       "<tbody>\n",
       "\t<tr><th scope=row>1</th><td>1 </td><td>c</td><td>ct</td><td>NA</td><td>NA</td><td>cc</td><td>NA</td><td>NA</td><td>NA</td><td>NA</td><td>⋯</td><td>NA</td><td>NA</td><td>NA</td><td>cc</td><td>NA</td><td>NA</td><td>NA</td><td>NA</td><td>NA</td><td>t,c</td></tr>\n",
       "\t<tr><th scope=row>2</th><td>7 </td><td>a</td><td>at</td><td>NA</td><td>NA</td><td>aa</td><td>NA</td><td>NA</td><td>NA</td><td>NA</td><td>⋯</td><td>NA</td><td>NA</td><td>NA</td><td>aa</td><td>NA</td><td>NA</td><td>NA</td><td>NA</td><td>NA</td><td>t,a</td></tr>\n",
       "\t<tr><th scope=row>3</th><td>9 </td><td>c</td><td>ca</td><td>NA</td><td>NA</td><td>cc</td><td>cc</td><td>NA</td><td>NA</td><td>NA</td><td>⋯</td><td>NA</td><td>NA</td><td>NA</td><td>cc</td><td>NA</td><td>NA</td><td>NA</td><td>NA</td><td>NA</td><td>a,c</td></tr>\n",
       "\t<tr><th scope=row>4</th><td>12</td><td>a</td><td>at</td><td>NA</td><td>NA</td><td>aa</td><td>aa</td><td>NA</td><td>NA</td><td>NA</td><td>⋯</td><td>NA</td><td>NA</td><td>NA</td><td>aa</td><td>NA</td><td>NA</td><td>NA</td><td>NA</td><td>NA</td><td>t,a</td></tr>\n",
       "\t<tr><th scope=row>5</th><td>15</td><td>c</td><td>ct</td><td>NA</td><td>NA</td><td>cc</td><td>cc</td><td>NA</td><td>NA</td><td>NA</td><td>⋯</td><td>NA</td><td>NA</td><td>NA</td><td>cc</td><td>NA</td><td>NA</td><td>NA</td><td>NA</td><td>NA</td><td>t,c</td></tr>\n",
       "\t<tr><th scope=row>6</th><td>19</td><td>a</td><td>at</td><td>NA</td><td>NA</td><td>aa</td><td>aa</td><td>NA</td><td>NA</td><td>NA</td><td>⋯</td><td>NA</td><td>NA</td><td>NA</td><td>aa</td><td>NA</td><td>NA</td><td>NA</td><td>NA</td><td>NA</td><td>t,a</td></tr>\n",
       "</tbody>\n",
       "</table>\n"
      ],
      "text/latex": [
       "A data.frame: 6 × 30\n",
       "\\begin{tabular}{r|lllllllllllllllllllll}\n",
       "  & POS & REF & X22002 & X9537 & X9905 & X10002 & X6966 & X10024 & X6069 & X6124 & ⋯ & X9543 & X10015 & X1741 & X8236 & X9728 & X9888 & X9764 & X22007 & X6909 & ALT\\\\\n",
       "  & <chr> & <chr> & <chr> & <chr> & <chr> & <chr> & <chr> & <chr> & <chr> & <chr> & ⋯ & <chr> & <chr> & <chr> & <chr> & <chr> & <chr> & <chr> & <chr> & <chr> & <chr>\\\\\n",
       "\\hline\n",
       "\t1 & 1  & c & ct & NA & NA & cc & NA & NA & NA & NA & ⋯ & NA & NA & NA & cc & NA & NA & NA & NA & NA & t,c\\\\\n",
       "\t2 & 7  & a & at & NA & NA & aa & NA & NA & NA & NA & ⋯ & NA & NA & NA & aa & NA & NA & NA & NA & NA & t,a\\\\\n",
       "\t3 & 9  & c & ca & NA & NA & cc & cc & NA & NA & NA & ⋯ & NA & NA & NA & cc & NA & NA & NA & NA & NA & a,c\\\\\n",
       "\t4 & 12 & a & at & NA & NA & aa & aa & NA & NA & NA & ⋯ & NA & NA & NA & aa & NA & NA & NA & NA & NA & t,a\\\\\n",
       "\t5 & 15 & c & ct & NA & NA & cc & cc & NA & NA & NA & ⋯ & NA & NA & NA & cc & NA & NA & NA & NA & NA & t,c\\\\\n",
       "\t6 & 19 & a & at & NA & NA & aa & aa & NA & NA & NA & ⋯ & NA & NA & NA & aa & NA & NA & NA & NA & NA & t,a\\\\\n",
       "\\end{tabular}\n"
      ],
      "text/markdown": [
       "\n",
       "A data.frame: 6 × 30\n",
       "\n",
       "| <!--/--> | POS &lt;chr&gt; | REF &lt;chr&gt; | X22002 &lt;chr&gt; | X9537 &lt;chr&gt; | X9905 &lt;chr&gt; | X10002 &lt;chr&gt; | X6966 &lt;chr&gt; | X10024 &lt;chr&gt; | X6069 &lt;chr&gt; | X6124 &lt;chr&gt; | ⋯ ⋯ | X9543 &lt;chr&gt; | X10015 &lt;chr&gt; | X1741 &lt;chr&gt; | X8236 &lt;chr&gt; | X9728 &lt;chr&gt; | X9888 &lt;chr&gt; | X9764 &lt;chr&gt; | X22007 &lt;chr&gt; | X6909 &lt;chr&gt; | ALT &lt;chr&gt; |\n",
       "|---|---|---|---|---|---|---|---|---|---|---|---|---|---|---|---|---|---|---|---|---|---|\n",
       "| 1 | 1  | c | ct | NA | NA | cc | NA | NA | NA | NA | ⋯ | NA | NA | NA | cc | NA | NA | NA | NA | NA | t,c |\n",
       "| 2 | 7  | a | at | NA | NA | aa | NA | NA | NA | NA | ⋯ | NA | NA | NA | aa | NA | NA | NA | NA | NA | t,a |\n",
       "| 3 | 9  | c | ca | NA | NA | cc | cc | NA | NA | NA | ⋯ | NA | NA | NA | cc | NA | NA | NA | NA | NA | a,c |\n",
       "| 4 | 12 | a | at | NA | NA | aa | aa | NA | NA | NA | ⋯ | NA | NA | NA | aa | NA | NA | NA | NA | NA | t,a |\n",
       "| 5 | 15 | c | ct | NA | NA | cc | cc | NA | NA | NA | ⋯ | NA | NA | NA | cc | NA | NA | NA | NA | NA | t,c |\n",
       "| 6 | 19 | a | at | NA | NA | aa | aa | NA | NA | NA | ⋯ | NA | NA | NA | aa | NA | NA | NA | NA | NA | t,a |\n",
       "\n"
      ],
      "text/plain": [
       "  POS REF X22002 X9537 X9905 X10002 X6966 X10024 X6069 X6124 ⋯ X9543 X10015\n",
       "1 1   c   ct     NA    NA    cc     NA    NA     NA    NA    ⋯ NA    NA    \n",
       "2 7   a   at     NA    NA    aa     NA    NA     NA    NA    ⋯ NA    NA    \n",
       "3 9   c   ca     NA    NA    cc     cc    NA     NA    NA    ⋯ NA    NA    \n",
       "4 12  a   at     NA    NA    aa     aa    NA     NA    NA    ⋯ NA    NA    \n",
       "5 15  c   ct     NA    NA    cc     cc    NA     NA    NA    ⋯ NA    NA    \n",
       "6 19  a   at     NA    NA    aa     aa    NA     NA    NA    ⋯ NA    NA    \n",
       "  X1741 X8236 X9728 X9888 X9764 X22007 X6909 ALT\n",
       "1 NA    cc    NA    NA    NA    NA     NA    t,c\n",
       "2 NA    aa    NA    NA    NA    NA     NA    t,a\n",
       "3 NA    cc    NA    NA    NA    NA     NA    a,c\n",
       "4 NA    aa    NA    NA    NA    NA     NA    t,a\n",
       "5 NA    cc    NA    NA    NA    NA     NA    t,c\n",
       "6 NA    aa    NA    NA    NA    NA     NA    t,a"
      ]
     },
     "metadata": {},
     "output_type": "display_data"
    }
   ],
   "source": [
    "head(vcf)"
   ]
  },
  {
   "cell_type": "code",
   "execution_count": 43,
   "id": "03da8586-4705-4a7c-b4f5-16894ffa3ed2",
   "metadata": {},
   "outputs": [],
   "source": [
    "###Make the file Hapmap like\n",
    "###Add hapmap-like columns\n",
    "vcf$rs<- seq(1:nrow(vcf)) #Insert numeric identifier of SNP\n",
    "vcf$alleles <- paste(vcf$REF,vcf$ALT,sep=\",\") #Insert reference and alternative allele\n",
    "vcf$alleles <- sapply(strsplit(vcf$alleles,','), function(x) toString(unique(x))) #Make alleles unique (calculate eneterez of REF+ALT unque combinations, because we are interested in variations)! Keep monomorphic sites for PI calculation\n",
    "vcf$counts <- nchar(vcf$alleles)#Calculate number of characters\n",
    "vcf <- vcf[vcf$counts==4,] #Filter only bi-allelic variants 4 characters: letter, del, tab, letter)\n",
    "vcf$alleles <-  str_replace(vcf$alleles , ', ', '/') #Change delimeter in alleles\n",
    "\n",
    "###Make HapMap-like file\n",
    "vcf$chrom <- '1' #Change it for each chromosome \n",
    "vcf$pos <- vcf$POS\n",
    "vcf$strand <- \".\"\n",
    "vcf$center <- \".\"\n",
    "vcf$protLSID <- \".\"\n",
    "vcf$assayLSID <- \".\"\n",
    "vcf$panelLSID <- \".\"\n",
    "vcf$QCcode <- \".\"\n",
    "vcf$assembly <- \".\"\n",
    "\n",
    "###Drop unnecessary columns\n",
    "vcf$CHROM <- NULL\n",
    "vcf$POS <- NULL\n",
    "vcf$REF <- NULL\n",
    "vcf$ALT <- NULL\n",
    "vcf$counts <- NULL\n",
    "##Transpose columns \n",
    "vcf <- vcf %>% relocate(rs)\n",
    "vcf <- vcf %>% relocate(alleles, .after =  rs)\n",
    "vcf <- vcf %>% relocate(chrom, .after =  alleles)\n",
    "vcf <- vcf %>% relocate(pos, .after =  chrom)\n",
    "vcf <- vcf %>% relocate(strand, .after =  pos)\n",
    "vcf <- vcf %>% relocate(assembly, .after =  strand)\n",
    "vcf <- vcf %>% relocate(center, .after =  assembly)\n",
    "vcf <- vcf %>% relocate(protLSID, .after =  center)\n",
    "vcf <- vcf %>% relocate(assayLSID, .after =  protLSID)\n",
    "vcf <- vcf %>% relocate(panelLSID, .after =  assayLSID)\n",
    "vcf <- vcf %>% relocate(QCcode, .after =  panelLSID)\n",
    "\n",
    "\n",
    "###Change small letters to big and NA to gap notation\n",
    "vcf <- data.frame(lapply(vcf, function(x) {\n",
    "  gsub(\"NA\",\"-\",\n",
    "  gsub(\"t\", \"T\",\n",
    "  gsub(\"a\", \"A\",\n",
    "  gsub(\"c\", \"C\",\n",
    "  gsub(\"g\", \"G\",x)))))\n",
    "  }))\n",
    "                      \n",
    "\n",
    "#Remove unrecognized letters \n",
    "vcf_corr <- vcf[!grepl(\"k|m|r|w|y|n|s|b|h|v|d\",vcf$alleles ),]\n",
    "vcf_corr$pos <- as.integer(vcf_corr$pos) #Make position integer value \n",
    "###Write to the file\n",
    "write.table(vcf_corr,\"/groups/nordborg/user/elizaveta.grigoreva/genome_evolution_pacbio/analyses/004_polymorphism_annas_snps/hmp_parsed/chr1_27acc.hmp\",quote=FALSE, row.names = F, sep=\"\\t\")\n",
    "\n"
   ]
  }
 ],
 "metadata": {
  "kernelspec": {
   "display_name": "R [conda env:.conda-R]",
   "language": "R",
   "name": "conda-env-.conda-R-r"
  },
  "language_info": {
   "codemirror_mode": "r",
   "file_extension": ".r",
   "mimetype": "text/x-r-source",
   "name": "R",
   "pygments_lexer": "r",
   "version": "4.2.2"
  }
 },
 "nbformat": 4,
 "nbformat_minor": 5
}
