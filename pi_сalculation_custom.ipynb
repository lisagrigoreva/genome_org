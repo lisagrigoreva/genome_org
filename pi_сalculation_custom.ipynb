{
 "cells": [
  {
   "cell_type": "code",
   "execution_count": null,
   "id": "0c9ee6c8-e702-4af6-8d1b-27c6124dd454",
   "metadata": {},
   "outputs": [],
   "source": [
    "!pip install pandas"
   ]
  },
  {
   "cell_type": "code",
   "execution_count": null,
   "id": "84d6c37d-14c9-47a9-9acd-918218c9bc03",
   "metadata": {},
   "outputs": [],
   "source": [
    "import pandas as pd\n",
    "import numpy as np"
   ]
  },
  {
   "cell_type": "code",
   "execution_count": null,
   "id": "a0c9bc3d-46b9-481c-a4fd-ff4db7f9b0fa",
   "metadata": {},
   "outputs": [],
   "source": [
    "seqv=pd.read_table(\"/groups/nordborg/user/elizaveta.grigoreva/genome_evolution_pacbio/analyses/004_polymorphism_annas_snps/hmp_parsed/pi_by_hand/chr1_27acc.txt\")\n",
    "#with open(\"/groups/nordborg/user/elizaveta.grigoreva/genome_evolution_pacbio/analyses/004_polymorphism_annas_snps/hmp_parsed/pi_by_hand/chr1_27acc.txt\") as txt:\n",
    "#     text = txt.readlines()\n",
    "type(seqv)"
   ]
  },
  {
   "cell_type": "code",
   "execution_count": null,
   "id": "495453eb-d0a7-4308-824c-050f7946b16c",
   "metadata": {},
   "outputs": [],
   "source": [
    "position=seqv['POS']"
   ]
  },
  {
   "cell_type": "code",
   "execution_count": null,
   "id": "e1208556-9fa9-43c6-8110-1bc5d00057f0",
   "metadata": {},
   "outputs": [],
   "source": [
    "#Transpose matrix\n",
    "test_transpose = np.transpose(seqv)"
   ]
  },
  {
   "cell_type": "code",
   "execution_count": null,
   "id": "5aadf557-b650-4ab6-ab95-1b2cc9264500",
   "metadata": {},
   "outputs": [],
   "source": [
    "type(test_transpose)"
   ]
  },
  {
   "cell_type": "code",
   "execution_count": null,
   "id": "0f2a78ce-84cd-4da8-9388-195968f495af",
   "metadata": {},
   "outputs": [],
   "source": [
    "test_transpose=test_transpose.drop('POS')"
   ]
  },
  {
   "cell_type": "code",
   "execution_count": null,
   "id": "b9900e59-3a5c-4aea-8a54-b230863dabfc",
   "metadata": {},
   "outputs": [],
   "source": [
    "#Calculate number of differences in each row \n",
    "differences_list=[]\n",
    "comparisons=0\n",
    "#Iterate over each column \n",
    "for f in range(0, len(test_transpose.columns)):\n",
    "    differences=0\n",
    "    for i in range(len(test_transpose[f])):\n",
    "        if str(test_transpose[f][i]) != 'nan':\n",
    "            for j in range(i,len(test_transpose[0])):\n",
    "                if str(test_transpose[f][j]) != 'nan':\n",
    "                    if test_transpose[f][j]!= test_transpose[f][i]:\n",
    "                        differences+= 1\n",
    "    differences_list.append(differences)"
   ]
  },
  {
   "cell_type": "code",
   "execution_count": null,
   "id": "e6a8b5b3-551f-48e8-892a-d5630e532378",
   "metadata": {},
   "outputs": [],
   "source": [
    "###Number of comparisons-number of letters\n",
    "comparisons=test_transpose.count()"
   ]
  },
  {
   "cell_type": "code",
   "execution_count": null,
   "id": "b74a9298-e20e-45cf-a418-7389c21bec2e",
   "metadata": {},
   "outputs": [],
   "source": [
    "comparisons.head()"
   ]
  },
  {
   "cell_type": "code",
   "execution_count": null,
   "id": "de833a8f-3639-474e-84e2-701537a9f425",
   "metadata": {},
   "outputs": [],
   "source": [
    "#Calculate combinations (n over k)\n",
    "from math import comb\n",
    "combinations=[]\n",
    "for i in comparisons:\n",
    "    combine=comb(i,2)\n",
    "    combinations.append(combine)"
   ]
  },
  {
   "cell_type": "code",
   "execution_count": null,
   "id": "b2a76a83-561f-4a90-81fc-171466597555",
   "metadata": {},
   "outputs": [],
   "source": [
    "len(chr1_length)"
   ]
  },
  {
   "cell_type": "code",
   "execution_count": null,
   "id": "96d4212e-47b3-4cd4-a9a0-c68b58df7cd6",
   "metadata": {},
   "outputs": [],
   "source": [
    "#Calculate Pi nominator and denominator in sliding windows \n",
    "import numpy as np\n",
    "import math\n",
    "window_size = 200000\n",
    "i = 0\n",
    "#Move combinations to type int \n",
    "numbers = [0 if math.isnan(x) else x for x in list_combinations]\n",
    "list_pi = [0 if math.isnan(x) else x for x in list_pi]\n",
    "numbers = [ int(x) for x in numbers ]\n",
    "# Initialize an empty list to store moving averages\n",
    "moving_averages_num = [] #initialize numerator \n",
    "moving_averages_denum = [] #initialize denumirator\n",
    "a=[]\n",
    "b=[]\n",
    "# Loop through the array t o\n",
    "#consider every window of size \n",
    "while i < len(chr1_length) - window_size + 50000:\n",
    "    a.append(i)\n",
    "    b.append(i+50000)\n",
    "    # Calculate the average of current window\n",
    "    window_average_num = round(np.sum(list_pi[\n",
    "      i:i+window_size]) / window_size, 2)\n",
    "    window_averages_denum = round(np.sum(numbers[\n",
    "      i:i+window_size]) / window_size, 2)\n",
    "    # Store the average of current\n",
    "    # window in moving average list\n",
    "    moving_averages_num.append(window_average_num)\n",
    "    moving_averages_denum.append(window_averages_denum)\n",
    "    # Shift window to right by one position\n",
    "    i += 50000\n"
   ]
  },
  {
   "cell_type": "code",
   "execution_count": null,
   "id": "600014d0-b651-4be8-9b4b-348aef9b5d8d",
   "metadata": {},
   "outputs": [],
   "source": [
    "#Calculate PI in sliding windows\n",
    "pi_raw = [x / y for x, y in zip(moving_averages_num, moving_averages_denum)]\n",
    "##Add column of coordinates (bins)\n",
    "pi_wind=[i/100000 for i in (pi_raw)]"
   ]
  },
  {
   "cell_type": "code",
   "execution_count": null,
   "id": "39ea4db8-331d-4002-8be5-e780c351e165",
   "metadata": {},
   "outputs": [],
   "source": [
    "#Zip everything in dataframe\n",
    "zipped = list(zip(a, b, pi_wind))#Make one dataframe\n",
    "df = pd.DataFrame(zipped, columns=['start', 'stop', 'pi'])\n",
    "df"
   ]
  },
  {
   "cell_type": "code",
   "execution_count": null,
   "id": "c6b1256e-7c47-4810-b7ff-d6dc942b7710",
   "metadata": {},
   "outputs": [],
   "source": [
    "#Write to dataframe\n",
    "df.to_csv (r'/groups/nordborg/user/elizaveta.grigoreva/genome_evolution_pacbio/analyses/004_polymorphism_annas_snps/hmp_parsed/pi_by_hand/pi_chr1.csv', index = None, header=True) "
   ]
  },
  {
   "cell_type": "code",
   "execution_count": null,
   "id": "72b48a54-02aa-4feb-a5f4-c6125850385f",
   "metadata": {},
   "outputs": [],
   "source": [
    "##Create chromosome sequence length \n",
    "import numpy as np\n",
    "chr1_length=np.arange(1,30427671+1)\n",
    "chr1_length = pd.DataFrame(chr1_length, columns = ['POS'])\n",
    "chr1_length['PI'] = 0 #Add PI column"
   ]
  },
  {
   "cell_type": "code",
   "execution_count": null,
   "id": "7019d5c9-83ca-4c40-8a6b-e6527652d58b",
   "metadata": {},
   "outputs": [],
   "source": [
    "#Merge with difference and combinations list \n",
    "difference=pd.DataFrame(differences_list, columns = ['PI'])\n",
    "difference['POS']=pd.DataFrame(position, columns = ['POS']).astype(int)\n",
    "difference['comb']=pd.DataFrame(combinations, columns = ['comb']).astype(int)"
   ]
  },
  {
   "cell_type": "code",
   "execution_count": null,
   "id": "796315d0-fff8-4944-b611-ada3380179de",
   "metadata": {},
   "outputs": [],
   "source": [
    "#Merge positions and update PI\n",
    "inner_merged_total = pd.merge(chr1_length, difference, how=\"left\", on=[\"POS\"])"
   ]
  },
  {
   "cell_type": "code",
   "execution_count": null,
   "id": "36768e67-90af-4b27-8226-b9f71dd49432",
   "metadata": {},
   "outputs": [],
   "source": [
    "inner_merged_total.head(10)\n",
    "#Extract column as a list\n",
    "list_pi=inner_merged_total['PI_y']\n",
    "list_combinations=inner_merged_total['comb']"
   ]
  },
  {
   "cell_type": "code",
   "execution_count": null,
   "id": "6190fc46-0e34-472f-af05-2c65bb61f453",
   "metadata": {},
   "outputs": [],
   "source": [
    "list_pi=list_pi.tolist()\n",
    "list_combinations=list_combinations.tolist()"
   ]
  },
  {
   "cell_type": "code",
   "execution_count": null,
   "id": "614ec688-3f54-42f7-8e06-c8e3bb5698c9",
   "metadata": {},
   "outputs": [],
   "source": [
    "###Checking genome letters\n",
    "with open(\"/groups/nordborg/user/elizaveta.grigoreva/genome_evolution_pacbio/data/tair10/GCF_000001735.4_TAIR10.1_genomic_5Chr_renamd_for_syri.fna\") as raw:\n",
    "    raw_lines = raw.readlines()\n",
    "#Create reference dictinoary  \n",
    "ref_chromosome_dict={}\n",
    "for line in raw_lines:\n",
    "    line=line.strip()\n",
    "    if line.startswith(\">\"):\n",
    "        chromosome=line[1:] #First line\n",
    "        ref_chromosome_dict[chromosome]=['_']\n",
    "        continue \n",
    "    ref_chromosome_dict[chromosome].append(line.upper())\n",
    "for chromosome in ref_chromosome_dict:\n",
    "    ref_chromosome_dict[chromosome] = \"\".join(ref_chromosome_dict[chromosome])\n",
    "print(ref_chromosome_dict['Chr1'][23259])\n"
   ]
  }
 ],
 "metadata": {
  "kernelspec": {
   "display_name": "Python 3",
   "language": "python",
   "name": "python3"
  },
  "language_info": {
   "codemirror_mode": {
    "name": "ipython",
    "version": 3
   },
   "file_extension": ".py",
   "mimetype": "text/x-python",
   "name": "python",
   "nbconvert_exporter": "python",
   "pygments_lexer": "ipython3",
   "version": "3.9.12"
  }
 },
 "nbformat": 4,
 "nbformat_minor": 5
}
