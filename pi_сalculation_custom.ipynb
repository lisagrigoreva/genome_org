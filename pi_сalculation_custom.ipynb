{
 "cells": [
  {
   "cell_type": "code",
   "execution_count": 2,
   "id": "0c9ee6c8-e702-4af6-8d1b-27c6124dd454",
   "metadata": {},
   "outputs": [
    {
     "name": "stdout",
     "output_type": "stream",
     "text": [
      "Defaulting to user installation because normal site-packages is not writeable\n",
      "Requirement already satisfied: pandas in /software/f2021/software/anaconda3/2021.11/lib/python3.9/site-packages (1.3.4)\n",
      "Requirement already satisfied: python-dateutil>=2.7.3 in /software/f2021/software/anaconda3/2021.11/lib/python3.9/site-packages (from pandas) (2.8.2)\n",
      "Requirement already satisfied: pytz>=2017.3 in /software/f2021/software/anaconda3/2021.11/lib/python3.9/site-packages (from pandas) (2021.3)\n",
      "Requirement already satisfied: numpy>=1.17.3 in /software/f2021/software/anaconda3/2021.11/lib/python3.9/site-packages (from pandas) (1.20.3)\n",
      "Requirement already satisfied: six>=1.5 in /software/f2021/software/anaconda3/2021.11/lib/python3.9/site-packages (from python-dateutil>=2.7.3->pandas) (1.16.0)\n",
      "\n",
      "\u001b[1m[\u001b[0m\u001b[34;49mnotice\u001b[0m\u001b[1;39;49m]\u001b[0m\u001b[39;49m A new release of pip available: \u001b[0m\u001b[31;49m22.2.2\u001b[0m\u001b[39;49m -> \u001b[0m\u001b[32;49m22.3.1\u001b[0m\n",
      "\u001b[1m[\u001b[0m\u001b[34;49mnotice\u001b[0m\u001b[1;39;49m]\u001b[0m\u001b[39;49m To update, run: \u001b[0m\u001b[32;49mpip install --upgrade pip\u001b[0m\n"
     ]
    }
   ],
   "source": [
    "!pip install pandas"
   ]
  },
  {
   "cell_type": "code",
   "execution_count": 3,
   "id": "84d6c37d-14c9-47a9-9acd-918218c9bc03",
   "metadata": {},
   "outputs": [],
   "source": [
    "import pandas as pd\n",
    "import numpy as np"
   ]
  },
  {
   "cell_type": "code",
   "execution_count": 214,
   "id": "a0c9bc3d-46b9-481c-a4fd-ff4db7f9b0fa",
   "metadata": {},
   "outputs": [
    {
     "data": {
      "text/plain": [
       "pandas.core.frame.DataFrame"
      ]
     },
     "execution_count": 214,
     "metadata": {},
     "output_type": "execute_result"
    }
   ],
   "source": [
    "seqv=pd.read_table(\"/groups/nordborg/user/elizaveta.grigoreva/genome_evolution_pacbio/analyses/004_polymorphism_annas_snps/hmp_parsed/pi_by_hand/chr1_27acc.txt\")\n",
    "#with open(\"/groups/nordborg/user/elizaveta.grigoreva/genome_evolution_pacbio/analyses/004_polymorphism_annas_snps/hmp_parsed/pi_by_hand/chr1_27acc.txt\") as txt:\n",
    "#     text = txt.readlines()\n",
    "type(seqv)"
   ]
  },
  {
   "cell_type": "code",
   "execution_count": 215,
   "id": "495453eb-d0a7-4308-824c-050f7946b16c",
   "metadata": {},
   "outputs": [],
   "source": [
    "position=seqv['POS']"
   ]
  },
  {
   "cell_type": "code",
   "execution_count": 182,
   "id": "e1208556-9fa9-43c6-8110-1bc5d00057f0",
   "metadata": {},
   "outputs": [],
   "source": [
    "#Transpose matrix\n",
    "test_transpose = np.transpose(seqv)"
   ]
  },
  {
   "cell_type": "code",
   "execution_count": 147,
   "id": "5aadf557-b650-4ab6-ab95-1b2cc9264500",
   "metadata": {},
   "outputs": [
    {
     "data": {
      "text/plain": [
       "pandas.core.frame.DataFrame"
      ]
     },
     "execution_count": 147,
     "metadata": {},
     "output_type": "execute_result"
    }
   ],
   "source": [
    "type(test_transpose)"
   ]
  },
  {
   "cell_type": "code",
   "execution_count": 324,
   "id": "0f2a78ce-84cd-4da8-9388-195968f495af",
   "metadata": {},
   "outputs": [],
   "source": [
    "test_transpose=test_transpose.drop('POS')"
   ]
  },
  {
   "cell_type": "code",
   "execution_count": 151,
   "id": "b9900e59-3a5c-4aea-8a54-b230863dabfc",
   "metadata": {},
   "outputs": [],
   "source": [
    "#Calculate number of differences in each row \n",
    "differences_list=[]\n",
    "comparisons=0\n",
    "#Iterate over each column \n",
    "for f in range(0, len(test_transpose.columns)):\n",
    "    differences=0\n",
    "    for i in range(len(test_transpose[f])):\n",
    "        if str(test_transpose[f][i]) != 'nan':\n",
    "            for j in range(i,len(test_transpose[0])):\n",
    "                if str(test_transpose[f][j]) != 'nan':\n",
    "                    if test_transpose[f][j]!= test_transpose[f][i]:\n",
    "                        differences+= 1\n",
    "    differences_list.append(differences)"
   ]
  },
  {
   "cell_type": "code",
   "execution_count": 326,
   "id": "e6a8b5b3-551f-48e8-892a-d5630e532378",
   "metadata": {},
   "outputs": [],
   "source": [
    "###Number of comparisons-number of letters\n",
    "comparisons=test_transpose.count()"
   ]
  },
  {
   "cell_type": "code",
   "execution_count": 327,
   "id": "b74a9298-e20e-45cf-a418-7389c21bec2e",
   "metadata": {},
   "outputs": [
    {
     "data": {
      "text/plain": [
       "0    4\n",
       "1    4\n",
       "2    5\n",
       "3    5\n",
       "4    5\n",
       "dtype: int64"
      ]
     },
     "execution_count": 327,
     "metadata": {},
     "output_type": "execute_result"
    }
   ],
   "source": [
    "comparisons.head()"
   ]
  },
  {
   "cell_type": "code",
   "execution_count": 328,
   "id": "de833a8f-3639-474e-84e2-701537a9f425",
   "metadata": {},
   "outputs": [],
   "source": [
    "#Calculate combinations (n over k)\n",
    "from math import comb\n",
    "combinations=[]\n",
    "for i in comparisons:\n",
    "    combine=comb(i,2)\n",
    "    combinations.append(combine)"
   ]
  },
  {
   "cell_type": "code",
   "execution_count": 285,
   "id": "b2a76a83-561f-4a90-81fc-171466597555",
   "metadata": {},
   "outputs": [
    {
     "data": {
      "text/plain": [
       "30427671"
      ]
     },
     "execution_count": 285,
     "metadata": {},
     "output_type": "execute_result"
    }
   ],
   "source": [
    "len(chr1_length)"
   ]
  },
  {
   "cell_type": "code",
   "execution_count": 340,
   "id": "96d4212e-47b3-4cd4-a9a0-c68b58df7cd6",
   "metadata": {},
   "outputs": [],
   "source": [
    "#Calculate Pi nominator and denominator in sliding windows \n",
    "import numpy as np\n",
    "import math\n",
    "window_size = 200000\n",
    "i = 0\n",
    "#Move combinations to type int \n",
    "numbers = [0 if math.isnan(x) else x for x in list_combinations]\n",
    "list_pi = [0 if math.isnan(x) else x for x in list_pi]\n",
    "numbers = [ int(x) for x in numbers ]\n",
    "# Initialize an empty list to store moving averages\n",
    "moving_averages_num = [] #initialize numerator \n",
    "moving_averages_denum = [] #initialize denumirator\n",
    "a=[]\n",
    "b=[]\n",
    "# Loop through the array t o\n",
    "#consider every window of size \n",
    "while i < len(chr1_length) - window_size + 50000:\n",
    "    a.append(i)\n",
    "    b.append(i+50000)\n",
    "    # Calculate the average of current window\n",
    "    window_average_num = round(np.sum(list_pi[\n",
    "      i:i+window_size]) / window_size, 2)\n",
    "    window_averages_denum = round(np.sum(numbers[\n",
    "      i:i+window_size]) / window_size, 2)\n",
    "    # Store the average of current\n",
    "    # window in moving average list\n",
    "    moving_averages_num.append(window_average_num)\n",
    "    moving_averages_denum.append(window_averages_denum)\n",
    "    # Shift window to right by one position\n",
    "    i += 50000\n"
   ]
  },
  {
   "cell_type": "code",
   "execution_count": 341,
   "id": "600014d0-b651-4be8-9b4b-348aef9b5d8d",
   "metadata": {},
   "outputs": [],
   "source": [
    "#Calculate PI in sliding windows\n",
    "pi_raw = [x / y for x, y in zip(moving_averages_num, moving_averages_denum)]\n",
    "##Add column of coordinates (bins)\n",
    "pi_wind=[i/100000 for i in (pi_raw)]"
   ]
  },
  {
   "cell_type": "code",
   "execution_count": 342,
   "id": "39ea4db8-331d-4002-8be5-e780c351e165",
   "metadata": {},
   "outputs": [
    {
     "data": {
      "text/html": [
       "<div>\n",
       "<style scoped>\n",
       "    .dataframe tbody tr th:only-of-type {\n",
       "        vertical-align: middle;\n",
       "    }\n",
       "\n",
       "    .dataframe tbody tr th {\n",
       "        vertical-align: top;\n",
       "    }\n",
       "\n",
       "    .dataframe thead th {\n",
       "        text-align: right;\n",
       "    }\n",
       "</style>\n",
       "<table border=\"1\" class=\"dataframe\">\n",
       "  <thead>\n",
       "    <tr style=\"text-align: right;\">\n",
       "      <th></th>\n",
       "      <th>start</th>\n",
       "      <th>stop</th>\n",
       "      <th>pi</th>\n",
       "    </tr>\n",
       "  </thead>\n",
       "  <tbody>\n",
       "    <tr>\n",
       "      <th>0</th>\n",
       "      <td>0</td>\n",
       "      <td>50000</td>\n",
       "      <td>0.000002</td>\n",
       "    </tr>\n",
       "    <tr>\n",
       "      <th>1</th>\n",
       "      <td>50000</td>\n",
       "      <td>100000</td>\n",
       "      <td>0.000002</td>\n",
       "    </tr>\n",
       "    <tr>\n",
       "      <th>2</th>\n",
       "      <td>100000</td>\n",
       "      <td>150000</td>\n",
       "      <td>0.000002</td>\n",
       "    </tr>\n",
       "    <tr>\n",
       "      <th>3</th>\n",
       "      <td>150000</td>\n",
       "      <td>200000</td>\n",
       "      <td>0.000002</td>\n",
       "    </tr>\n",
       "    <tr>\n",
       "      <th>4</th>\n",
       "      <td>200000</td>\n",
       "      <td>250000</td>\n",
       "      <td>0.000002</td>\n",
       "    </tr>\n",
       "    <tr>\n",
       "      <th>...</th>\n",
       "      <td>...</td>\n",
       "      <td>...</td>\n",
       "      <td>...</td>\n",
       "    </tr>\n",
       "    <tr>\n",
       "      <th>601</th>\n",
       "      <td>30050000</td>\n",
       "      <td>30100000</td>\n",
       "      <td>0.000002</td>\n",
       "    </tr>\n",
       "    <tr>\n",
       "      <th>602</th>\n",
       "      <td>30100000</td>\n",
       "      <td>30150000</td>\n",
       "      <td>0.000002</td>\n",
       "    </tr>\n",
       "    <tr>\n",
       "      <th>603</th>\n",
       "      <td>30150000</td>\n",
       "      <td>30200000</td>\n",
       "      <td>0.000002</td>\n",
       "    </tr>\n",
       "    <tr>\n",
       "      <th>604</th>\n",
       "      <td>30200000</td>\n",
       "      <td>30250000</td>\n",
       "      <td>0.000002</td>\n",
       "    </tr>\n",
       "    <tr>\n",
       "      <th>605</th>\n",
       "      <td>30250000</td>\n",
       "      <td>30300000</td>\n",
       "      <td>0.000002</td>\n",
       "    </tr>\n",
       "  </tbody>\n",
       "</table>\n",
       "<p>606 rows × 3 columns</p>\n",
       "</div>"
      ],
      "text/plain": [
       "        start      stop        pi\n",
       "0           0     50000  0.000002\n",
       "1       50000    100000  0.000002\n",
       "2      100000    150000  0.000002\n",
       "3      150000    200000  0.000002\n",
       "4      200000    250000  0.000002\n",
       "..        ...       ...       ...\n",
       "601  30050000  30100000  0.000002\n",
       "602  30100000  30150000  0.000002\n",
       "603  30150000  30200000  0.000002\n",
       "604  30200000  30250000  0.000002\n",
       "605  30250000  30300000  0.000002\n",
       "\n",
       "[606 rows x 3 columns]"
      ]
     },
     "execution_count": 342,
     "metadata": {},
     "output_type": "execute_result"
    }
   ],
   "source": [
    "#Zip everything in dataframe\n",
    "zipped = list(zip(a, b, pi_wind))#Make one dataframe\n",
    "df = pd.DataFrame(zipped, columns=['start', 'stop', 'pi'])\n",
    "df"
   ]
  },
  {
   "cell_type": "code",
   "execution_count": 343,
   "id": "c6b1256e-7c47-4810-b7ff-d6dc942b7710",
   "metadata": {},
   "outputs": [],
   "source": [
    "#Write to dataframe\n",
    "df.to_csv (r'/groups/nordborg/user/elizaveta.grigoreva/genome_evolution_pacbio/analyses/004_polymorphism_annas_snps/hmp_parsed/pi_by_hand/pi_chr1.csv', index = None, header=True) "
   ]
  },
  {
   "cell_type": "code",
   "execution_count": 241,
   "id": "72b48a54-02aa-4feb-a5f4-c6125850385f",
   "metadata": {},
   "outputs": [
    {
     "data": {
      "text/html": [
       "<div>\n",
       "<style scoped>\n",
       "    .dataframe tbody tr th:only-of-type {\n",
       "        vertical-align: middle;\n",
       "    }\n",
       "\n",
       "    .dataframe tbody tr th {\n",
       "        vertical-align: top;\n",
       "    }\n",
       "\n",
       "    .dataframe thead th {\n",
       "        text-align: right;\n",
       "    }\n",
       "</style>\n",
       "<table border=\"1\" class=\"dataframe\">\n",
       "  <thead>\n",
       "    <tr style=\"text-align: right;\">\n",
       "      <th></th>\n",
       "      <th>POS</th>\n",
       "      <th>PI</th>\n",
       "    </tr>\n",
       "  </thead>\n",
       "  <tbody>\n",
       "    <tr>\n",
       "      <th>0</th>\n",
       "      <td>1</td>\n",
       "      <td>0</td>\n",
       "    </tr>\n",
       "    <tr>\n",
       "      <th>1</th>\n",
       "      <td>2</td>\n",
       "      <td>0</td>\n",
       "    </tr>\n",
       "    <tr>\n",
       "      <th>2</th>\n",
       "      <td>3</td>\n",
       "      <td>0</td>\n",
       "    </tr>\n",
       "    <tr>\n",
       "      <th>3</th>\n",
       "      <td>4</td>\n",
       "      <td>0</td>\n",
       "    </tr>\n",
       "    <tr>\n",
       "      <th>4</th>\n",
       "      <td>5</td>\n",
       "      <td>0</td>\n",
       "    </tr>\n",
       "    <tr>\n",
       "      <th>...</th>\n",
       "      <td>...</td>\n",
       "      <td>...</td>\n",
       "    </tr>\n",
       "    <tr>\n",
       "      <th>30427666</th>\n",
       "      <td>30427667</td>\n",
       "      <td>0</td>\n",
       "    </tr>\n",
       "    <tr>\n",
       "      <th>30427667</th>\n",
       "      <td>30427668</td>\n",
       "      <td>0</td>\n",
       "    </tr>\n",
       "    <tr>\n",
       "      <th>30427668</th>\n",
       "      <td>30427669</td>\n",
       "      <td>0</td>\n",
       "    </tr>\n",
       "    <tr>\n",
       "      <th>30427669</th>\n",
       "      <td>30427670</td>\n",
       "      <td>0</td>\n",
       "    </tr>\n",
       "    <tr>\n",
       "      <th>30427670</th>\n",
       "      <td>30427671</td>\n",
       "      <td>0</td>\n",
       "    </tr>\n",
       "  </tbody>\n",
       "</table>\n",
       "<p>30427671 rows × 2 columns</p>\n",
       "</div>"
      ],
      "text/plain": [
       "               POS  PI\n",
       "0                1   0\n",
       "1                2   0\n",
       "2                3   0\n",
       "3                4   0\n",
       "4                5   0\n",
       "...            ...  ..\n",
       "30427666  30427667   0\n",
       "30427667  30427668   0\n",
       "30427668  30427669   0\n",
       "30427669  30427670   0\n",
       "30427670  30427671   0\n",
       "\n",
       "[30427671 rows x 2 columns]"
      ]
     },
     "execution_count": 241,
     "metadata": {},
     "output_type": "execute_result"
    }
   ],
   "source": [
    "##Create chromosome sequence length \n",
    "import numpy as np\n",
    "chr1_length=np.arange(1,30427671+1)\n",
    "chr1_length = pd.DataFrame(chr1_length, columns = ['POS'])\n",
    "chr1_length['PI'] = 0 #Add PI column"
   ]
  },
  {
   "cell_type": "code",
   "execution_count": 332,
   "id": "7019d5c9-83ca-4c40-8a6b-e6527652d58b",
   "metadata": {},
   "outputs": [],
   "source": [
    "#Merge with difference and combinations list \n",
    "difference=pd.DataFrame(differences_list, columns = ['PI'])\n",
    "difference['POS']=pd.DataFrame(position, columns = ['POS']).astype(int)\n",
    "difference['comb']=pd.DataFrame(combinations, columns = ['comb']).astype(int)"
   ]
  },
  {
   "cell_type": "code",
   "execution_count": 333,
   "id": "796315d0-fff8-4944-b611-ada3380179de",
   "metadata": {},
   "outputs": [],
   "source": [
    "#Merge positions and update PI\n",
    "inner_merged_total = pd.merge(chr1_length, difference, how=\"left\", on=[\"POS\"])"
   ]
  },
  {
   "cell_type": "code",
   "execution_count": 334,
   "id": "36768e67-90af-4b27-8226-b9f71dd49432",
   "metadata": {},
   "outputs": [],
   "source": [
    "inner_merged_total.head(10)\n",
    "#Extract column as a list\n",
    "list_pi=inner_merged_total['PI_y']\n",
    "list_combinations=inner_merged_total['comb']"
   ]
  },
  {
   "cell_type": "code",
   "execution_count": 335,
   "id": "6190fc46-0e34-472f-af05-2c65bb61f453",
   "metadata": {},
   "outputs": [],
   "source": [
    "list_pi=list_pi.tolist()\n",
    "list_combinations=list_combinations.tolist()"
   ]
  },
  {
   "cell_type": "code",
   "execution_count": null,
   "id": "614ec688-3f54-42f7-8e06-c8e3bb5698c9",
   "metadata": {},
   "outputs": [],
   "source": [
    "###Checking genome letters\n",
    "with open(\"/groups/nordborg/user/elizaveta.grigoreva/genome_evolution_pacbio/data/tair10/GCF_000001735.4_TAIR10.1_genomic_5Chr_renamd_for_syri.fna\") as raw:\n",
    "    raw_lines = raw.readlines()\n",
    "#Create reference dictinoary  \n",
    "ref_chromosome_dict={}\n",
    "for line in raw_lines:\n",
    "    line=line.strip()\n",
    "    if line.startswith(\">\"):\n",
    "        chromosome=line[1:] #First line\n",
    "        ref_chromosome_dict[chromosome]=['_']\n",
    "        continue \n",
    "    ref_chromosome_dict[chromosome].append(line.upper())\n",
    "for chromosome in ref_chromosome_dict:\n",
    "    ref_chromosome_dict[chromosome] = \"\".join(ref_chromosome_dict[chromosome])\n",
    "print(ref_chromosome_dict['Chr1'][23259])\n"
   ]
  }
 ],
 "metadata": {
  "kernelspec": {
   "display_name": "Python 3",
   "language": "python",
   "name": "python3"
  },
  "language_info": {
   "codemirror_mode": {
    "name": "ipython",
    "version": 3
   },
   "file_extension": ".py",
   "mimetype": "text/x-python",
   "name": "python",
   "nbconvert_exporter": "python",
   "pygments_lexer": "ipython3",
   "version": "3.9.12"
  }
 },
 "nbformat": 4,
 "nbformat_minor": 5
}
