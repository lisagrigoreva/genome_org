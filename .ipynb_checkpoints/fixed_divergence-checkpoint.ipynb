{
 "cells": [
  {
   "cell_type": "code",
   "execution_count": null,
   "id": "70ac2f72-aa63-4f1a-892b-1662cb3b0dab",
   "metadata": {},
   "outputs": [],
   "source": [
    "###Calculating fixed divergence by hands and saving datafrmaes\n",
    "#Artificial fusion+SYRI+snpEFF\n",
    "\n",
    "####Read data intersected customly in R\n",
    "seqv=pd.read_table(\"/groups/nordborg/user/elizaveta.grigoreva/genome_evolution_pacbio/analyses/009_divergence/thaliana_vs_lyrata/thaliana_alignment_anna/nucleotides/chr1/chr1_fixed_div.txt\")\n"
   ]
  },
  {
   "cell_type": "code",
   "execution_count": null,
   "id": "47dfc725-6e3d-4394-907e-7c69b84187d7",
   "metadata": {},
   "outputs": [],
   "source": [
    "#Read syn-non-syn obtained by snpEFF\n",
    "non_syn=pd.read_table(\"/groups/nordborg/user/elizaveta.grigoreva/genome_evolution_pacbio/analyses/009_divergence/thaliana_vs_lyrata/syn_non_syn_snps_analysis/positions_nonsyn.txt\", header=None)\n",
    "syn= pd.read_table(\"/groups/nordborg/user/elizaveta.grigoreva/genome_evolution_pacbio/analyses/009_divergence/thaliana_vs_lyrata/syn_non_syn_snps_analysis/positions_syn.txt\", header=None)               \n",
    "chr1_length=np.arange(1,30427671+1) #length of the chromosome"
   ]
  },
  {
   "cell_type": "code",
   "execution_count": null,
   "id": "b0a0325c-b591-44ee-9b77-c8db881c2699",
   "metadata": {},
   "outputs": [],
   "source": [
    "#Synonimous\n",
    "#Convert to list and change positions that non in synonimous to 0\n",
    "syn_converted =set(syn[0].tolist())\n",
    "syn_seq = seqv['snp.y'].tolist()\n",
    "for i in range(len(syn_seq)):\n",
    "    if i not in syn_converted:\n",
    "        syn_seq[i] = 0"
   ]
  },
  {
   "cell_type": "code",
   "execution_count": null,
   "id": "c7075116-63b9-4a8c-b48f-0b4ea796d101",
   "metadata": {},
   "outputs": [],
   "source": [
    "#Nonsynonimous\n",
    "#Convert to list and change positions that non in synonimous to 0\n",
    "nonsyn_converted =set(non_syn[0].tolist())\n",
    "nonsyn_seq = seqv['snp.y'].tolist()\n",
    "for i in range(len(nonsyn_seq)):\n",
    "    if i not in nonsyn_converted:\n",
    "        nonsyn_seq[i] = 0"
   ]
  },
  {
   "cell_type": "code",
   "execution_count": null,
   "id": "1f42e054-d459-49b9-9771-c5a7bcd572ba",
   "metadata": {},
   "outputs": [],
   "source": [
    "#Calculate fixed divergence in sliding windows \n",
    "import numpy as np\n",
    "import math\n",
    "window_size = 100000\n",
    "i = 0\n",
    "#Move combinations to type int \n",
    "syn_seq = [0 if math.isnan(x) else x for x in syn_seq]\n",
    "# Initialize an empty list to store moving averages\n",
    "moving_averages_list_div= [] #initialize numerator \n",
    "a=[]\n",
    "b=[]\n",
    "# Loop through the array t o\n",
    "#consider every window of size \n",
    "while i < len(chr1_length) - window_size + 50000:\n",
    "    a.append(i)\n",
    "    b.append(i+50000)\n",
    "    # Calculate the average of current window\n",
    "    moving_averages_list_diver = np.sum(syn_seq[\n",
    "      i:i+window_size])\n",
    "    # Store the average of current\n",
    "    # window in moving average list\n",
    "    moving_averages_list_div.append(moving_averages_list_diver)\n",
    "    # Shift window to right by one position\n",
    "    i += 50000"
   ]
  },
  {
   "cell_type": "code",
   "execution_count": null,
   "id": "b96bf546-365f-4eee-acec-05a961bf8afd",
   "metadata": {},
   "outputs": [],
   "source": [
    "#Make dataframe\n",
    "zipped = list(zip(a, b, moving_averages_list_div))#Make one dataframe\n",
    "df = pd.DataFrame(zipped, columns=['start', 'stop', 'fix_div'])\n",
    "df"
   ]
  },
  {
   "cell_type": "code",
   "execution_count": null,
   "id": "1142b200-0c0a-40b8-8630-de2e302eb597",
   "metadata": {},
   "outputs": [],
   "source": [
    "df.to_csv(r'/groups/nordborg/user/elizaveta.grigoreva/genome_evolution_pacbio/analyses/009_divergence/thaliana_vs_lyrata/fix_div_chr1_non_syn.csv', index = None, header=True) "
   ]
  }
 ],
 "metadata": {
  "kernelspec": {
   "display_name": "Python 3",
   "language": "python",
   "name": "python3"
  },
  "language_info": {
   "codemirror_mode": {
    "name": "ipython",
    "version": 3
   },
   "file_extension": ".py",
   "mimetype": "text/x-python",
   "name": "python",
   "nbconvert_exporter": "python",
   "pygments_lexer": "ipython3",
   "version": "3.9.12"
  }
 },
 "nbformat": 4,
 "nbformat_minor": 5
}
