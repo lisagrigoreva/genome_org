{
 "cells": [
  {
   "cell_type": "code",
   "execution_count": null,
   "id": "f3e59f90-6d85-4574-baff-a1ec6466d708",
   "metadata": {},
   "outputs": [],
   "source": [
    "#Clear workspace \n",
    "rm(list = ls(all.names = TRUE))"
   ]
  },
  {
   "cell_type": "code",
   "execution_count": 45,
   "id": "8dd8cce0-55e1-41e0-99c8-603b11e07f3a",
   "metadata": {},
   "outputs": [],
   "source": [
    "library(data.table)\n",
    "library(dplyr)\n",
    "library(tidyverse)\n",
    "setwd(\"/groups/nordborg/user/elizaveta.grigoreva/genome_evolution_pacbio/analyses/009_divergence/thaliana_vs_lyrata/\")"
   ]
  },
  {
   "cell_type": "code",
   "execution_count": null,
   "id": "1f9ab0a2-dd70-43e6-8a93-5944ceca4a41",
   "metadata": {},
   "outputs": [],
   "source": [
    "##Read SYRI output\n",
    "\n",
    "syri_chr1_MN47_220222 <- read.csv(\""
   ]
  },
  {
   "cell_type": "code",
   "execution_count": null,
   "id": "4e0f99a2-2260-46aa-90e2-8f77aa0ec15b",
   "metadata": {},
   "outputs": [],
   "source": [
    "#Coordinates to nucleotides\n",
    "coordinates <- readRDS('/groups/nordborg/projects/the1001genomesplus/005_genome_alignment/pangenome/val_all_chr_1_sorted2_filled.rds')\n",
    "head(coordinates)"
   ]
  },
  {
   "cell_type": "code",
   "execution_count": 36,
   "id": "4bf27af6-f4ca-4ea5-b24c-1077081e269f",
   "metadata": {},
   "outputs": [],
   "source": [
    "##Annas nucleotides(including non-variable positions)\n",
    "rds_chr1 <- readRDS('/groups/nordborg/user/elizaveta.grigoreva/genome_evolution_pacbio/analyses/009_divergence/thaliana_vs_lyrata/thaliana_alignment_anna/nucleotides/chr1/test/test.rds')\n",
    "rds_chr1 <- as.data.frame(rds_chr1)\n",
    "\n"
   ]
  },
  {
   "cell_type": "code",
   "execution_count": null,
   "id": "daced63a-f1bd-4e82-8b19-3bba220ca176",
   "metadata": {},
   "outputs": [],
   "source": [
    "setwd(\"/groups/nordborg/user/elizaveta.grigoreva/genome_evolution_pacbio/analyses/009_divergence/thaliana_vs_lyrata/thaliana_alignment_anna/nucleotides/chr1/test/\")\n",
    "list_file <- list.files(pattern = \"*.rds\") %>% \n",
    "  lapply(readRDS) "
   ]
  },
  {
   "cell_type": "code",
   "execution_count": null,
   "id": "c28f1042-ba66-4643-94d0-50f7186d1432",
   "metadata": {},
   "outputs": [],
   "source": []
  }
 ],
 "metadata": {
  "kernelspec": {
   "display_name": "R [conda env:.conda-R]",
   "language": "R",
   "name": "conda-env-.conda-R-r"
  },
  "language_info": {
   "codemirror_mode": "r",
   "file_extension": ".r",
   "mimetype": "text/x-r-source",
   "name": "R",
   "pygments_lexer": "r",
   "version": "4.2.2"
  }
 },
 "nbformat": 4,
 "nbformat_minor": 5
}
